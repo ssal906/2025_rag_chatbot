{
 "cells": [
  {
   "cell_type": "code",
   "execution_count": null,
   "id": "8698abdf",
   "metadata": {},
   "outputs": [],
   "source": [
    "import os\n",
    "import json\n",
    "from tqdm import tqdm\n",
    "from collections import defaultdict\n",
    "\n",
    "# 분류 매핑\n",
    "CATEGORY_MAPPING = {\n",
    "    \"교통(자동차)\": [\"교통\", \"도로교통\", \"자동차\", \"음주운전\", \"무면허운전\", \"사고후미조치\"],\n",
    "    \"사기 및 형사\": [\"사기\", \"절도\", \"횡령\", \"배임\", \"상해\", \"폭행\", \"성범죄\", \"마약\", \"공무집행방해\", \"장물\", \"폭력\"],\n",
    "    \"부동산\": [\"건물명도\", \"임대차보증금\", \"소유권\", \"토지\", \"부동산\", \"전세\", \"분양\", \"점포\", \"양도\", \"철거\"],\n",
    "    \"노동\": [\"근로\", \"최저임금\", \"퇴직금\", \"해고\", \"산재\", \"임금\", \"노임\"],\n",
    "    \"대금\": [\"대금\", \"공사대금\", \"물품대금\", \"매매대금\", \"약정금\", \"지급\", \"초과지급\", \"연대채무금\"],\n",
    "    \"손해배상\": [\"손해배상\", \"배상\", \"위자료\", \"상해배상\", \"피해배상\"],\n",
    "    \"상속\": [\"상속\", \"유류분\", \"유언\", \"상속재산\", \"상속회복\", \"유산분할\", \"상속등기\", \"상속포기\"],\n",
    "    \"계약\": [\"계약\", \"계약금\", \"계약해지\", \"계약해제\", \"계약위반\", \"계약불이행\", \"청약\", \"승낙\", \"해약\"]\n",
    "}\n",
    "\n",
    "\n",
    "CATEGORIES = list(CATEGORY_MAPPING.keys()) + [\"기타\"]\n",
    "\n",
    "def get_categories_for_casenames(casenames, mapping=CATEGORY_MAPPING):\n",
    "    casename_list = [c.strip() for c in casenames.split(\",\")]\n",
    "    result = set()\n",
    "    for casename in casename_list:\n",
    "        for cat, keywords in mapping.items():\n",
    "            if any(k in casename for k in keywords):\n",
    "                result.add(cat)\n",
    "    if not result:\n",
    "        result.add(\"기타\")\n",
    "    return list(result)\n"
   ]
  },
  {
   "cell_type": "code",
   "execution_count": 6,
   "id": "8090e895",
   "metadata": {},
   "outputs": [
    {
     "name": "stderr",
     "output_type": "stream",
     "text": [
      "Processing 1: 100%|██████████| 19050/19050 [04:27<00:00, 71.32it/s] \n",
      "Processing 2: 100%|██████████| 19111/19111 [03:43<00:00, 85.34it/s]  \n",
      "Processing 3: 100%|██████████| 19103/19103 [00:02<00:00, 7468.07it/s]\n",
      "Processing 4: 100%|██████████| 19027/19027 [00:02<00:00, 7740.05it/s]\n"
     ]
    }
   ],
   "source": [
    "ROOT_DIR = \"판결문\"\n",
    "OUT_DIR = \"precomputed\"\n",
    "os.makedirs(OUT_DIR, exist_ok=True)\n",
    "\n",
    "# 분류별 저장할 리스트\n",
    "classified_documents = defaultdict(list)   # content(str) 저장\n",
    "classified_metadatas = defaultdict(list)   # dict 저장\n",
    "\n",
    "for subdir in [\"1\", \"2\", \"3\", \"4\"]:\n",
    "    sub_path = os.path.join(ROOT_DIR, subdir)\n",
    "    for fname in tqdm(os.listdir(sub_path), desc=f\"Processing {subdir}\"):\n",
    "        if not fname.endswith(\".json\"):\n",
    "            continue\n",
    "        fpath = os.path.join(sub_path, fname)\n",
    "        with open(fpath, encoding=\"utf-8\") as f:\n",
    "            data = json.load(f)\n",
    "        casenames = data.get(\"casenames\", \"\")\n",
    "        categories = get_categories_for_casenames(casenames)\n",
    "        content = (\n",
    "            f\"사건명: {data.get('casenames', '')}\\n\"\n",
    "            + \"\\n\".join(data.get(\"sentences\", []))\n",
    "        )\n",
    "        meta = {\n",
    "            \"source\": fname,\n",
    "            \"type\": \"json\",\n",
    "            \"casenames\": data.get(\"casenames\", \"\"),\n",
    "            \"announce_date\": data.get(\"announce_date\", \"\")\n",
    "        }\n",
    "        for cat in categories:\n",
    "            classified_documents[cat].append(content)\n",
    "            classified_metadatas[cat].append(meta)\n"
   ]
  },
  {
   "cell_type": "code",
   "execution_count": 7,
   "id": "8f3bebac",
   "metadata": {},
   "outputs": [
    {
     "name": "stdout",
     "output_type": "stream",
     "text": [
      "\n",
      "=== 카테고리별 JSON 파일 개수 ===\n",
      "대금: 14498개\n",
      "기타: 23546개\n",
      "손해배상: 32288개\n",
      "부동산: 5431개\n",
      "교통(자동차): 1178개\n",
      "노동: 2836개\n",
      "사기 및 형사: 479개\n",
      "계약: 249개\n",
      "상속: 15개\n"
     ]
    }
   ],
   "source": [
    "print(\"\\n=== 카테고리별 JSON 파일 개수 ===\")\n",
    "for cat in classified_documents.keys():\n",
    "    print(f\"{cat}: {len(classified_documents[cat])}개\")"
   ]
  },
  {
   "cell_type": "code",
   "execution_count": 8,
   "id": "772fd95a",
   "metadata": {},
   "outputs": [
    {
     "name": "stderr",
     "output_type": "stream",
     "text": [
      "교통(자동차) 임베딩: 100%|██████████| 1178/1178 [09:25<00:00,  2.08it/s]\n",
      "사기 및 형사 임베딩: 100%|██████████| 479/479 [04:24<00:00,  1.81it/s]\n",
      "부동산 임베딩: 100%|██████████| 5431/5431 [47:36<00:00,  1.90it/s]  \n",
      "노동 임베딩: 100%|██████████| 2836/2836 [28:22<00:00,  1.67it/s] \n",
      "대금 임베딩: 100%|██████████| 14498/14498 [2:21:01<00:00,  1.71it/s]  \n",
      "손해배상 임베딩: 100%|██████████| 32288/32288 [6:04:09<00:00,  1.48it/s]      \n",
      "상속 임베딩: 100%|██████████| 15/15 [00:11<00:00,  1.29it/s]\n",
      "계약 임베딩: 100%|██████████| 249/249 [02:57<00:00,  1.40it/s]\n",
      "기타 임베딩: 100%|██████████| 23546/23546 [3:59:21<00:00,  1.64it/s]     \n"
     ]
    }
   ],
   "source": [
    "from tqdm import tqdm\n",
    "from langchain_openai import OpenAIEmbeddings\n",
    "import pickle\n",
    "import os\n",
    "\n",
    "embeddings = OpenAIEmbeddings(model=\"text-embedding-3-small\")\n",
    "\n",
    "for cat in CATEGORIES:\n",
    "    if not classified_documents[cat]:\n",
    "        continue\n",
    "    docs = classified_documents[cat]\n",
    "    vectors = []\n",
    "    # tqdm으로 카테고리 내부 문서별 임베딩 진행률 출력\n",
    "    for doc in tqdm(docs, desc=f\"{cat} 임베딩\", leave=True):\n",
    "        vectors.append(embeddings.embed_query(doc))\n",
    "    # 파일 저장\n",
    "    with open(os.path.join(OUT_DIR, f\"{cat}_documents.pkl\"), \"wb\") as f:\n",
    "        pickle.dump(docs, f)\n",
    "    with open(os.path.join(OUT_DIR, f\"{cat}_embeddings.pkl\"), \"wb\") as f:\n",
    "        pickle.dump(vectors, f)\n",
    "\n"
   ]
  },
  {
   "cell_type": "code",
   "execution_count": null,
   "id": "0c0f9831",
   "metadata": {},
   "outputs": [],
   "source": []
  }
 ],
 "metadata": {
  "kernelspec": {
   "display_name": "Jupyter_venv",
   "language": "python",
   "name": "python3"
  },
  "language_info": {
   "codemirror_mode": {
    "name": "ipython",
    "version": 3
   },
   "file_extension": ".py",
   "mimetype": "text/x-python",
   "name": "python",
   "nbconvert_exporter": "python",
   "pygments_lexer": "ipython3",
   "version": "3.12.7"
  }
 },
 "nbformat": 4,
 "nbformat_minor": 5
}
