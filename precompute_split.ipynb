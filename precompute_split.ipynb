{
 "cells": [
  {
   "cell_type": "code",
   "execution_count": null,
   "id": "c36674a3",
   "metadata": {},
   "outputs": [
    {
     "data": {
      "text/plain": [
       "True"
      ]
     },
     "execution_count": 1,
     "metadata": {},
     "output_type": "execute_result"
    }
   ],
   "source": [
    "from langchain_openai import OpenAIEmbeddings\n",
    "from langchain_community.document_loaders import PyPDFLoader\n",
    "from langchain.text_splitter import RecursiveCharacterTextSplitter\n",
    "import os\n",
    "import pickle\n",
    "from tqdm import tqdm\n",
    "from dotenv import load_dotenv\n",
    "\n",
    "\n",
    "load_dotenv()\n"
   ]
  },
  {
   "cell_type": "code",
   "execution_count": 2,
   "id": "51229d5b",
   "metadata": {},
   "outputs": [],
   "source": [
    "def embed_pdf_documents(pdf_paths, save_path):\n",
    "    docs = []\n",
    "    text_splitter = RecursiveCharacterTextSplitter(\n",
    "        chunk_size=400,\n",
    "        chunk_overlap=150,\n",
    "        separators=[\". \", \"\\n\\n\", \"\\n\", \" \"]\n",
    "    )\n",
    "    for path in tqdm(pdf_paths, desc=\"PDF 로딩\"):\n",
    "        loader = PyPDFLoader(path)\n",
    "        raw_docs = loader.load()  # Document 객체 리스트 반환 (페이지별)\n",
    "        splitted_docs = text_splitter.split_documents(raw_docs)\n",
    "        # 메타데이터에 파일명, 페이지 정보 추가 추천\n",
    "        for doc in splitted_docs:\n",
    "            doc.metadata[\"source\"] = os.path.basename(path)\n",
    "            doc.metadata[\"type\"] = \"pdf\"\n",
    "        docs.extend(splitted_docs)\n",
    "    print(f\"PDF 청크 총 {len(docs)}개\")\n",
    "    \n",
    "    # 임베딩\n",
    "    texts = [doc.page_content for doc in docs]\n",
    "    model = OpenAIEmbeddings(model=\"text-embedding-3-small\")\n",
    "    vectors = model.embed_documents(texts)\n",
    "    \n",
    "    # 저장\n",
    "    with open(os.path.join(save_path, \"pdf_documents.pkl\"), \"wb\") as f:\n",
    "        pickle.dump(docs, f)\n",
    "    with open(os.path.join(save_path, \"pdf_embeddings.pkl\"), \"wb\") as f:\n",
    "        pickle.dump(vectors, f)\n",
    "    print(\"✅ PDF 임베딩 및 저장 완료\")\n",
    "\n"
   ]
  },
  {
   "cell_type": "code",
   "execution_count": null,
   "id": "13c530c0",
   "metadata": {},
   "outputs": [
    {
     "name": "stderr",
     "output_type": "stream",
     "text": [
      "PDF 로딩:   0%|          | 0/4 [00:00<?, ?it/s]"
     ]
    },
    {
     "name": "stderr",
     "output_type": "stream",
     "text": [
      "PDF 로딩: 100%|██████████| 4/4 [00:01<00:00,  2.19it/s]\n"
     ]
    },
    {
     "name": "stdout",
     "output_type": "stream",
     "text": [
      "PDF 청크 총 1385개\n",
      "✅ PDF 임베딩 및 저장 완료\n"
     ]
    },
    {
     "name": "stderr",
     "output_type": "stream",
     "text": [
      "JSON 로딩 (1): 100%|██████████| 19050/19050 [02:43<00:00, 116.77it/s]\n"
     ]
    },
    {
     "name": "stdout",
     "output_type": "stream",
     "text": [
      "폴더 1: JSON 청크 445219개\n",
      "✅ json_001 임베딩 및 저장 완료\n"
     ]
    },
    {
     "name": "stderr",
     "output_type": "stream",
     "text": [
      "JSON 로딩 (2): 100%|██████████| 19111/19111 [02:55<00:00, 108.59it/s]\n"
     ]
    },
    {
     "name": "stdout",
     "output_type": "stream",
     "text": [
      "폴더 2: JSON 청크 552634개\n",
      "✅ json_001_002 임베딩 및 저장 완료\n"
     ]
    },
    {
     "name": "stderr",
     "output_type": "stream",
     "text": [
      "JSON 로딩 (3): 100%|██████████| 19103/19103 [16:56<00:00, 18.80it/s]  \n"
     ]
    },
    {
     "name": "stdout",
     "output_type": "stream",
     "text": [
      "폴더 3: JSON 청크 621104개\n",
      "✅ json_001_002_003 임베딩 및 저장 완료\n"
     ]
    },
    {
     "name": "stderr",
     "output_type": "stream",
     "text": [
      "JSON 로딩 (4): 100%|██████████| 19027/19027 [23:00<00:00, 13.79it/s]  \n"
     ]
    },
    {
     "name": "stdout",
     "output_type": "stream",
     "text": [
      "폴더 4: JSON 청크 623994개\n",
      "✅ json_001_002_003_004 임베딩 및 저장 완료\n"
     ]
    }
   ],
   "source": [
    "def main():\n",
    "    # 1. PDF 임베딩\n",
    "    pdf_paths = [\n",
    "        \"C:/Users/sbin0/Desktop/3-1/인공지능서비스개발/민법(법률)(제20432호)(20250131).pdf\",\n",
    "        \"C:/Users/sbin0/Desktop/3-1/인공지능서비스개발/민사집행법(법률)(제20434호)(20250131).pdf\",\n",
    "        \"C:/Users/sbin0/Desktop/3-1/인공지능서비스개발/민사조정법(법률)(제16910호)(20200305).pdf\",\n",
    "        \"C:/Users/sbin0/Desktop/3-1/인공지능서비스개발/민사소송법(법률)(제20003호)(20250301).pdf\",\n",
    "        \"C:/Users/sbin0/Desktop/3-1/인공지능서비스개발/합의서.pdf\",\n",
    "        \"C:/Users/sbin0/Desktop/3-1/인공지능서비스개발/고소장.pdf\"\n",
    "    ]\n",
    "    save_dir = \"precomputed\"\n",
    "    os.makedirs(save_dir, exist_ok=True)\n",
    "    embed_pdf_documents(pdf_paths, save_dir)\n",
    "    \n",
    "if __name__ == \"__main__\":\n",
    "    main()\n"
   ]
  },
  {
   "cell_type": "code",
   "execution_count": null,
   "id": "d8c374af",
   "metadata": {},
   "outputs": [],
   "source": []
  }
 ],
 "metadata": {
  "kernelspec": {
   "display_name": "Jupyter_venv",
   "language": "python",
   "name": "python3"
  },
  "language_info": {
   "codemirror_mode": {
    "name": "ipython",
    "version": 3
   },
   "file_extension": ".py",
   "mimetype": "text/x-python",
   "name": "python",
   "nbconvert_exporter": "python",
   "pygments_lexer": "ipython3",
   "version": "3.12.7"
  }
 },
 "nbformat": 4,
 "nbformat_minor": 5
}
